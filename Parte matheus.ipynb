{
 "cells": [
  {
   "cell_type": "markdown",
   "metadata": {},
   "source": [
    "# DataFrame com Dados dos Filmes (movies)"
   ]
  },
  {
   "cell_type": "code",
   "execution_count": 2,
   "metadata": {},
   "outputs": [],
   "source": [
    "colunas_info_movie = ['id_hashed', 'movie_title', 'color', 'duration', 'genres', 'plot_keywords', 'language', 'country', 'content_rating', 'title_year', 'aspect_ratio','movie_imdb_link']"
   ]
  },
  {
   "cell_type": "code",
   "execution_count": 3,
   "metadata": {},
   "outputs": [
    {
     "ename": "NameError",
     "evalue": "name 'df' is not defined",
     "output_type": "error",
     "traceback": [
      "\u001b[1;31m---------------------------------------------------------------------------\u001b[0m",
      "\u001b[1;31mNameError\u001b[0m                                 Traceback (most recent call last)",
      "\u001b[1;32mc:\\Users\\Matheus\\Documents\\Programação\\Santander\\Curso Santander\\4._Big_Data\\Projeto\\big_data1_ada\\Parte matheus.ipynb Cell 3\u001b[0m in \u001b[0;36m<cell line: 1>\u001b[1;34m()\u001b[0m\n\u001b[1;32m----> <a href='vscode-notebook-cell:/c%3A/Users/Matheus/Documents/Programa%C3%A7%C3%A3o/Santander/Curso%20Santander/4._Big_Data/Projeto/big_data1_ada/Parte%20matheus.ipynb#W2sZmlsZQ%3D%3D?line=0'>1</a>\u001b[0m df\u001b[39m.\u001b[39mselect(colunas_info_movie)\u001b[39m.\u001b[39mwrite\u001b[39m.\u001b[39mformat(\u001b[39m'\u001b[39m\u001b[39mparquet\u001b[39m\u001b[39m'\u001b[39m)\\\n\u001b[0;32m      <a href='vscode-notebook-cell:/c%3A/Users/Matheus/Documents/Programa%C3%A7%C3%A3o/Santander/Curso%20Santander/4._Big_Data/Projeto/big_data1_ada/Parte%20matheus.ipynb#W2sZmlsZQ%3D%3D?line=1'>2</a>\u001b[0m \u001b[39m.\u001b[39moption(\u001b[39m\"\u001b[39m\u001b[39mheader\u001b[39m\u001b[39m\"\u001b[39m,\u001b[39m\"\u001b[39m\u001b[39mtrue\u001b[39m\u001b[39m\"\u001b[39m)\\\n\u001b[0;32m      <a href='vscode-notebook-cell:/c%3A/Users/Matheus/Documents/Programa%C3%A7%C3%A3o/Santander/Curso%20Santander/4._Big_Data/Projeto/big_data1_ada/Parte%20matheus.ipynb#W2sZmlsZQ%3D%3D?line=2'>3</a>\u001b[0m \u001b[39m.\u001b[39mmode(\u001b[39m'\u001b[39m\u001b[39moverwrite\u001b[39m\u001b[39m'\u001b[39m)\\\n\u001b[0;32m      <a href='vscode-notebook-cell:/c%3A/Users/Matheus/Documents/Programa%C3%A7%C3%A3o/Santander/Curso%20Santander/4._Big_Data/Projeto/big_data1_ada/Parte%20matheus.ipynb#W2sZmlsZQ%3D%3D?line=3'>4</a>\u001b[0m \u001b[39m.\u001b[39msave(\u001b[39m\"\u001b[39m\u001b[39mdbfs:/FileStore/trusted/info_movie\u001b[39m\u001b[39m\"\u001b[39m)\n",
      "\u001b[1;31mNameError\u001b[0m: name 'df' is not defined"
     ]
    }
   ],
   "source": [
    "df.select(colunas_info_movie).write.format('parquet')\\\n",
    ".option(\"header\",\"true\")\\\n",
    ".mode('overwrite')\\\n",
    ".save(\"dbfs:/FileStore/trusted/info_movie\")"
   ]
  },
  {
   "cell_type": "code",
   "execution_count": null,
   "metadata": {},
   "outputs": [],
   "source": [
    "df_info_movie = spark.read.parquet(\"dbfs:/FileStore/trusted/info_movie\")\n",
    "df_info_movie.createOrReplaceTempView('df_info_movie')\n",
    "display(df_info_movie)"
   ]
  },
  {
   "cell_type": "markdown",
   "metadata": {},
   "source": [
    "### Analise Matheus"
   ]
  },
  {
   "cell_type": "code",
   "execution_count": null,
   "metadata": {},
   "outputs": [],
   "source": [
    "%sql\n",
    "-- selecionando filmes do gênero \n",
    "select movie_title, genres from df_info_movie\n",
    "where genres like '%Comedy%'"
   ]
  },
  {
   "cell_type": "code",
   "execution_count": null,
   "metadata": {},
   "outputs": [],
   "source": [
    "%sql\n",
    "-- selecionando filmes de 2015 para frente\n",
    "select movie_title, title_year from df_info_movie\n",
    "where title_year > 2015"
   ]
  },
  {
   "cell_type": "code",
   "execution_count": null,
   "metadata": {},
   "outputs": [],
   "source": [
    "%sql\n",
    "-- selecionando o diretor do filme\n",
    "select director_name, movie_title, df_cast.id_hashed from df_cast\n",
    "inner join df_info_movie\n",
    "on df_cast.id_hashed = df_info_movie.id_hashed"
   ]
  },
  {
   "cell_type": "code",
   "execution_count": null,
   "metadata": {},
   "outputs": [],
   "source": [
    "#Frequencia de palavras chaves\n",
    "import numpy as np\n",
    "dado = df_info_movie.select('plot_keywords')\n",
    "\n",
    "lista = []\n",
    "dado_junto = dado.collect()\n",
    "\n",
    "for i in range(len(dado_junto)):\n",
    "    if dado_junto[i][0] != None:\n",
    "        separ = dado_junto[i][0].split('|')\n",
    "        for i in separ:\n",
    "            lista.append(i)\n",
    "\n",
    "freq = {}\n",
    "\n",
    "for item in lista:\n",
    "    if item in freq:\n",
    "        freq[item] += 1\n",
    "    else:\n",
    "        freq[item] = 1\n",
    "        \n",
    "frequencia_keywords = spark.createDataFrame(data=freq.items(), schema=['keywords', 'frequency'])\n",
    "frequencia_keywords.createOrReplaceTempView('frequencia_keywords')\n",
    "display(frequencia_keywords)"
   ]
  },
  {
   "cell_type": "code",
   "execution_count": null,
   "metadata": {},
   "outputs": [],
   "source": [
    "%sql\n",
    "SELECT * from frequencia_keywords\n",
    "ORDER BY frequency DESC"
   ]
  },
  {
   "cell_type": "code",
   "execution_count": null,
   "metadata": {},
   "outputs": [],
   "source": [
    "#Frequencia de genero\n",
    "import numpy as np\n",
    "dado_genero = df_info_movie.select('genres')\n",
    "\n",
    "lista_genero = []\n",
    "dado_junto_genero = dado_genero.collect()\n",
    "\n",
    "for i in range(len(dado_junto_genero)):\n",
    "    if dado_junto_genero[i][0] != None:\n",
    "        separ = dado_junto_genero[i][0].split('|')\n",
    "        for i in separ:\n",
    "            lista_genero.append(i)\n",
    "\n",
    "freq_genero = {}\n",
    "\n",
    "for item in lista_genero:\n",
    "    if item in freq_genero:\n",
    "        freq_genero[item] += 1\n",
    "    else:\n",
    "        freq_genero[item] = 1\n",
    "        \n",
    "frequencia_genero = spark.createDataFrame(data=freq_genero.items(), schema=['genero', 'frequency'])\n",
    "frequencia_genero.createOrReplaceTempView('frequencia_genero')\n",
    "display(frequencia_genero)"
   ]
  },
  {
   "cell_type": "code",
   "execution_count": null,
   "metadata": {},
   "outputs": [],
   "source": [
    "%sql\n",
    "SELECT * from frequencia_genero\n",
    "ORDER BY frequency DESC"
   ]
  }
 ],
 "metadata": {
  "kernelspec": {
   "display_name": "Python 3",
   "language": "python",
   "name": "python3"
  },
  "language_info": {
   "codemirror_mode": {
    "name": "ipython",
    "version": 3
   },
   "file_extension": ".py",
   "mimetype": "text/x-python",
   "name": "python",
   "nbconvert_exporter": "python",
   "pygments_lexer": "ipython3",
   "version": "3.10.3"
  },
  "orig_nbformat": 4,
  "vscode": {
   "interpreter": {
    "hash": "9a3b07ba528c89038647187279d5e29ba231df4ea6aa016e93723a294652464d"
   }
  }
 },
 "nbformat": 4,
 "nbformat_minor": 2
}
