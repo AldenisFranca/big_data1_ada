{
 "cells": [
  {
   "cell_type": "markdown",
   "metadata": {},
   "source": [
    "# DataFrame com Dados dos Filmes (movies)"
   ]
  },
  {
   "cell_type": "code",
   "execution_count": 2,
   "metadata": {},
   "outputs": [],
   "source": [
    "colunas_info_movie = ['id_hashed', 'movie_title', 'color', 'duration', 'genres', 'plot_keywords', 'language', 'country', 'content_rating', 'title_year', 'aspect_ratio','movie_imdb_link']"
   ]
  },
  {
   "cell_type": "code",
   "execution_count": 3,
   "metadata": {},
   "outputs": [
    {
     "ename": "NameError",
     "evalue": "name 'df' is not defined",
     "output_type": "error",
     "traceback": [
      "\u001b[1;31m---------------------------------------------------------------------------\u001b[0m",
      "\u001b[1;31mNameError\u001b[0m                                 Traceback (most recent call last)",
      "\u001b[1;32mc:\\Users\\Matheus\\Documents\\Programação\\Santander\\Curso Santander\\4._Big_Data\\Projeto\\big_data1_ada\\Parte matheus.ipynb Cell 3\u001b[0m in \u001b[0;36m<cell line: 1>\u001b[1;34m()\u001b[0m\n\u001b[1;32m----> <a href='vscode-notebook-cell:/c%3A/Users/Matheus/Documents/Programa%C3%A7%C3%A3o/Santander/Curso%20Santander/4._Big_Data/Projeto/big_data1_ada/Parte%20matheus.ipynb#W2sZmlsZQ%3D%3D?line=0'>1</a>\u001b[0m df\u001b[39m.\u001b[39mselect(colunas_info_movie)\u001b[39m.\u001b[39mwrite\u001b[39m.\u001b[39mformat(\u001b[39m'\u001b[39m\u001b[39mparquet\u001b[39m\u001b[39m'\u001b[39m)\\\n\u001b[0;32m      <a href='vscode-notebook-cell:/c%3A/Users/Matheus/Documents/Programa%C3%A7%C3%A3o/Santander/Curso%20Santander/4._Big_Data/Projeto/big_data1_ada/Parte%20matheus.ipynb#W2sZmlsZQ%3D%3D?line=1'>2</a>\u001b[0m \u001b[39m.\u001b[39moption(\u001b[39m\"\u001b[39m\u001b[39mheader\u001b[39m\u001b[39m\"\u001b[39m,\u001b[39m\"\u001b[39m\u001b[39mtrue\u001b[39m\u001b[39m\"\u001b[39m)\\\n\u001b[0;32m      <a href='vscode-notebook-cell:/c%3A/Users/Matheus/Documents/Programa%C3%A7%C3%A3o/Santander/Curso%20Santander/4._Big_Data/Projeto/big_data1_ada/Parte%20matheus.ipynb#W2sZmlsZQ%3D%3D?line=2'>3</a>\u001b[0m \u001b[39m.\u001b[39mmode(\u001b[39m'\u001b[39m\u001b[39moverwrite\u001b[39m\u001b[39m'\u001b[39m)\\\n\u001b[0;32m      <a href='vscode-notebook-cell:/c%3A/Users/Matheus/Documents/Programa%C3%A7%C3%A3o/Santander/Curso%20Santander/4._Big_Data/Projeto/big_data1_ada/Parte%20matheus.ipynb#W2sZmlsZQ%3D%3D?line=3'>4</a>\u001b[0m \u001b[39m.\u001b[39msave(\u001b[39m\"\u001b[39m\u001b[39mdbfs:/FileStore/trusted/info_movie\u001b[39m\u001b[39m\"\u001b[39m)\n",
      "\u001b[1;31mNameError\u001b[0m: name 'df' is not defined"
     ]
    }
   ],
   "source": [
    "df.select(colunas_info_movie).write.format('parquet')\\\n",
    ".option(\"header\",\"true\")\\\n",
    ".mode('overwrite')\\\n",
    ".save(\"dbfs:/FileStore/trusted/info_movie\")"
   ]
  },
  {
   "cell_type": "code",
   "execution_count": null,
   "metadata": {},
   "outputs": [],
   "source": [
    "df_info_movie = spark.read.parquet(\"dbfs:/FileStore/trusted/info_movie\")\n",
    "df_info_movie.createOrReplaceTempView('df_info_movie')\n",
    "display(df_info_movie)"
   ]
  },
  {
   "cell_type": "markdown",
   "metadata": {},
   "source": [
    "### Analise Matheus"
   ]
  },
  {
   "cell_type": "code",
   "execution_count": null,
   "metadata": {},
   "outputs": [],
   "source": [
    "%sql\n",
    "-- selecionando filmes do gênero \n",
    "select movie_title, genres from df_info_movie\n",
    "where genres like '%Comedy%'"
   ]
  },
  {
   "cell_type": "code",
   "execution_count": null,
   "metadata": {},
   "outputs": [],
   "source": [
    "%sql\n",
    "-- selecionando filmes de 2015 para frente\n",
    "select movie_title, title_year from df_info_movie\n",
    "where title_year > 2015"
   ]
  }
 ],
 "metadata": {
  "kernelspec": {
   "display_name": "Python 3",
   "language": "python",
   "name": "python3"
  },
  "language_info": {
   "codemirror_mode": {
    "name": "ipython",
    "version": 3
   },
   "file_extension": ".py",
   "mimetype": "text/x-python",
   "name": "python",
   "nbconvert_exporter": "python",
   "pygments_lexer": "ipython3",
   "version": "3.10.3"
  },
  "orig_nbformat": 4,
  "vscode": {
   "interpreter": {
    "hash": "9a3b07ba528c89038647187279d5e29ba231df4ea6aa016e93723a294652464d"
   }
  }
 },
 "nbformat": 4,
 "nbformat_minor": 2
}
